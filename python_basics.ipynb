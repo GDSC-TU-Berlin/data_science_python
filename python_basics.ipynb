{
 "cells": [
  {
   "cell_type": "markdown",
   "metadata": {},
   "source": [
    "## What is a program?\n",
    "\n",
    "- A set of instructions which the computer executes top to bottom.\n",
    "\n"
   ]
  },
  {
   "cell_type": "code",
   "execution_count": 13,
   "metadata": {},
   "outputs": [
    {
     "name": "stdout",
     "output_type": "stream",
     "text": [
      "Hello\n",
      "world!\n"
     ]
    }
   ],
   "source": [
    "print(\"Hello\")\n",
    "print(\"world!\")"
   ]
  },
  {
   "cell_type": "markdown",
   "metadata": {},
   "source": [
    "## Variables and datatypes\n",
    "- A program often has to manage and store different types of data in order to carry out the task at hand"
   ]
  },
  {
   "cell_type": "code",
   "execution_count": 14,
   "metadata": {},
   "outputs": [
    {
     "name": "stdout",
     "output_type": "stream",
     "text": [
      "Name: Alice\n",
      "Age: 25\n",
      "Height: 5.8\n",
      "Is a student: True\n"
     ]
    }
   ],
   "source": [
    "# Integer variable\n",
    "age: int = 25\n",
    "\n",
    "# Floating-point variable\n",
    "height: float = 5.8\n",
    "\n",
    "# String variable\n",
    "name: str = \"Alice\"\n",
    "\n",
    "# Boolean variable\n",
    "is_student: bool = True\n",
    "\n",
    "# Printing variables\n",
    "print(\"Name:\", name)\n",
    "print(\"Age:\", age)\n",
    "print(\"Height:\", height)\n",
    "print(\"Is a student:\", is_student)"
   ]
  },
  {
   "cell_type": "markdown",
   "metadata": {},
   "source": [
    "## Basic operations\n",
    "- There are many ways to process and manipulate data"
   ]
  },
  {
   "cell_type": "markdown",
   "metadata": {},
   "source": [
    "### Arithmetic operations"
   ]
  },
  {
   "cell_type": "code",
   "execution_count": 15,
   "metadata": {},
   "outputs": [
    {
     "name": "stdout",
     "output_type": "stream",
     "text": [
      "Addition: 15\n",
      "Subtraction: 13\n",
      "Multiplication: 32\n",
      "Division: 5.0\n",
      "Modulus: 2\n"
     ]
    }
   ],
   "source": [
    "result_add = 10 + 5\n",
    "result_sub = 20 - 7\n",
    "result_mul = 8 * 4\n",
    "result_div = 15 / 3\n",
    "result_mod = 17 % 5\n",
    "result_pow = 2 ** 4\n",
    "\n",
    "print(\"Addition:\", result_add)\n",
    "print(\"Subtraction:\", result_sub)\n",
    "print(\"Multiplication:\", result_mul)\n",
    "print(\"Division:\", result_div)\n",
    "print(\"Modulus:\", result_mod)\n",
    "print(\"Power:\", result_pow)"
   ]
  },
  {
   "cell_type": "markdown",
   "metadata": {},
   "source": [
    "### String manipulation"
   ]
  },
  {
   "cell_type": "code",
   "execution_count": 17,
   "metadata": {},
   "outputs": [
    {
     "name": "stdout",
     "output_type": "stream",
     "text": [
      "Hello, Alice\n"
     ]
    }
   ],
   "source": [
    "greeting = \"Hello, \"\n",
    "name = \"Alice\"\n",
    "message = greeting + name\n",
    "print(message)"
   ]
  },
  {
   "cell_type": "markdown",
   "metadata": {},
   "source": [
    "### Logical operators"
   ]
  },
  {
   "cell_type": "code",
   "execution_count": 18,
   "metadata": {},
   "outputs": [
    {
     "name": "stdout",
     "output_type": "stream",
     "text": [
      "Greater Than: True\n",
      "Equal: True\n",
      "Not Equal: True\n",
      "Logical AND: False\n",
      "Logical OR: True\n",
      "Logical NOT: False\n"
     ]
    }
   ],
   "source": [
    "is_greater = 10 > 5\n",
    "is_equal = 7 == 7\n",
    "is_not_equal = 10 != 5\n",
    "logical_and = True and False\n",
    "logical_or = True or False\n",
    "logical_not = not True\n",
    "\n",
    "print(\"Greater Than:\", is_greater)\n",
    "print(\"Equal:\", is_equal)\n",
    "print(\"Not Equal:\", is_not_equal)\n",
    "print(\"Logical AND:\", logical_and)\n",
    "print(\"Logical OR:\", logical_or)\n",
    "print(\"Logical NOT:\", logical_not)"
   ]
  },
  {
   "cell_type": "markdown",
   "metadata": {},
   "source": [
    "### Control flow"
   ]
  },
  {
   "cell_type": "markdown",
   "metadata": {},
   "source": [
    "### If-else conditions"
   ]
  },
  {
   "cell_type": "code",
   "execution_count": 24,
   "metadata": {},
   "outputs": [
    {
     "name": "stdout",
     "output_type": "stream",
     "text": [
      "Number is positive\n",
      "Number is negative\n",
      "Number is zero\n"
     ]
    }
   ],
   "source": [
    "num = 10\n",
    "if num > 0:\n",
    "    print(\"Number is positive\")\n",
    "elif num < 0:\n",
    "    print(\"Number is negative\")\n",
    "else:\n",
    "    print(\"Number is zero\")\n",
    "\n",
    "num = -10\n",
    "if num > 0:\n",
    "    print(\"Number is positive\")\n",
    "elif num < 0:\n",
    "    print(\"Number is negative\")\n",
    "else:\n",
    "    print(\"Number is zero\")\n",
    "\n",
    "num = 0\n",
    "if num > 0:\n",
    "    print(\"Number is positive\")\n",
    "elif num < 0:\n",
    "    print(\"Number is negative\")\n",
    "else:\n",
    "    print(\"Number is zero\")"
   ]
  },
  {
   "cell_type": "markdown",
   "metadata": {},
   "source": [
    "### Loops"
   ]
  },
  {
   "cell_type": "code",
   "execution_count": 27,
   "metadata": {},
   "outputs": [
    {
     "name": "stdout",
     "output_type": "stream",
     "text": [
      "0\n",
      "1\n",
      "2\n",
      "3\n",
      "4\n",
      "Count: 1\n",
      "Count: 2\n",
      "Count: 3\n",
      "Count: 4\n",
      "Count: 5\n"
     ]
    }
   ],
   "source": [
    "# For range loops\n",
    "for i in range(5):\n",
    "    print(i)\n",
    "\n",
    "# While loop\n",
    "count = 1\n",
    "while count <= 5:\n",
    "    print(\"Count:\", count)\n",
    "    count += 1"
   ]
  },
  {
   "cell_type": "markdown",
   "metadata": {},
   "source": [
    "### Functions\n",
    "- A function encapsulates a block of code. Whenever that function is called. The code within it is executed"
   ]
  },
  {
   "cell_type": "code",
   "execution_count": 30,
   "metadata": {},
   "outputs": [
    {
     "name": "stdout",
     "output_type": "stream",
     "text": [
      "Square of 5: 25\n",
      "Hello, Alice!\n",
      "27\n",
      "625\n"
     ]
    }
   ],
   "source": [
    "# Function to calculate the square of a number\n",
    "def square(num):\n",
    "    return num * num\n",
    "\n",
    "# Function to greet a person\n",
    "def greet(name):\n",
    "    return \"Hello, \" + name + \"!\"\n",
    "\n",
    "def power(basis: float, exp: int):\n",
    "    result = 1\n",
    "    for i in range(exp):\n",
    "        result = result * basis\n",
    "\n",
    "    return result\n",
    "\n",
    "# Using functions\n",
    "result = square(5)\n",
    "message = greet(\"Alice\")\n",
    "three_to_power_of_three = power(3, 3)\n",
    "five_to_power_of_four = power(5, 4)\n",
    "\n",
    "\n",
    "print(\"Square of 5:\", result)\n",
    "print(message)\n",
    "print(three_to_power_of_three)\n",
    "print(five_to_power_of_four)"
   ]
  },
  {
   "cell_type": "markdown",
   "metadata": {},
   "source": [
    "### Lists and datastructures\n",
    "- So far we've worked with basic data structures like `bool` or `int` etc. In many cases it can be useful to work with more complicated data structures "
   ]
  },
  {
   "cell_type": "markdown",
   "metadata": {},
   "source": [
    "### Lists"
   ]
  },
  {
   "cell_type": "code",
   "execution_count": 35,
   "metadata": {},
   "outputs": [
    {
     "name": "stdout",
     "output_type": "stream",
     "text": [
      "First fruit: apple\n",
      "Second fruit: banana\n",
      "Selected fruits: ['banana', 'cherry']\n",
      "Modified fruits: ['apple', 'strawberry', 'grape']\n"
     ]
    }
   ],
   "source": [
    "# Creating a list\n",
    "fruits = [\"apple\", \"banana\", \"cherry\"]\n",
    "\n",
    "# Accessing elements by index\n",
    "first_fruit = fruits[0]\n",
    "second_fruit = fruits[1]\n",
    "\n",
    "# Slicing a list\n",
    "selected_fruits = fruits[1:3]\n",
    "\n",
    "# Modifying a list\n",
    "fruits.append(\"grape\")\n",
    "fruits[2] = \"strawberry\"\n",
    "fruits.remove(\"banana\")\n",
    "\n",
    "print(\"First fruit:\", first_fruit)\n",
    "print(\"Second fruit:\", second_fruit)\n",
    "print(\"Selected fruits:\", selected_fruits)\n",
    "print(\"Modified fruits:\", fruits)"
   ]
  },
  {
   "cell_type": "markdown",
   "metadata": {},
   "source": [
    "### Dictionaries"
   ]
  },
  {
   "cell_type": "code",
   "execution_count": null,
   "metadata": {},
   "outputs": [],
   "source": [
    "# Creating a dictionary to store information about a person\n",
    "person = {\n",
    "    \"first_name\": \"John\",\n",
    "    \"last_name\": \"Doe\",\n",
    "    \"age\": 30,\n",
    "    \"city\": \"New York\"\n",
    "}\n",
    "\n",
    "# Accessing values in the dictionary\n",
    "print(\"First Name:\", person[\"first_name\"])\n",
    "print(\"Last Name:\", person[\"last_name\"])\n",
    "print(\"Age:\", person[\"age\"])\n",
    "print(\"City:\", person[\"city\"])\n",
    "\n",
    "# Modifying a value in the dictionary\n",
    "person[\"age\"] = 31\n",
    "\n",
    "# Adding a new key-value pair\n",
    "person[\"country\"] = \"USA\""
   ]
  },
  {
   "cell_type": "markdown",
   "metadata": {},
   "source": [
    "## Libraries\n",
    "- We can make use of open-source code that has been published in a library by \n",
    "installing and importing that library"
   ]
  },
  {
   "cell_type": "code",
   "execution_count": 38,
   "metadata": {},
   "outputs": [
    {
     "name": "stdout",
     "output_type": "stream",
     "text": [
      "-0.9589242746631385\n",
      "[0 1 2 3 4]\n",
      "[0 2 4 6 8]\n"
     ]
    }
   ],
   "source": [
    "import numpy as np\n",
    "\n",
    "# calculate sin() of a number\n",
    "sine_of_five = np.sin(5)\n",
    "print(sine_of_five)\n",
    "\n",
    "# make an array of ascending numbers\n",
    "array = np.arange(5)\n",
    "print(array)\n",
    "\n",
    "# multiply all numbers in that array by 2\n",
    "array_times_two = array * 2\n",
    "print(array_times_two)"
   ]
  }
 ],
 "metadata": {
  "kernelspec": {
   "display_name": "Python 3",
   "language": "python",
   "name": "python3"
  },
  "language_info": {
   "codemirror_mode": {
    "name": "ipython",
    "version": 3
   },
   "file_extension": ".py",
   "mimetype": "text/x-python",
   "name": "python",
   "nbconvert_exporter": "python",
   "pygments_lexer": "ipython3",
   "version": "3.10.12"
  },
  "orig_nbformat": 4
 },
 "nbformat": 4,
 "nbformat_minor": 2
}
