{
 "cells": [
  {
   "cell_type": "markdown",
   "source": [
    "## Data analysis in Python using Pandas "
   ],
   "metadata": {
    "collapsed": false
   },
   "id": "17b6480b90220ae9"
  },
  {
   "cell_type": "markdown",
   "source": [
    "Panadas is a Python library for data analysis. It offers a number of data exploration, cleaning and transformation operations that are critical in working with data in Python."
   ],
   "metadata": {
    "collapsed": false
   },
   "id": "335f822cc724ce99"
  },
  {
   "cell_type": "code",
   "execution_count": null,
   "id": "initial_id",
   "metadata": {
    "collapsed": true
   },
   "outputs": [],
   "source": [
    "!pip install pandas"
   ]
  },
  {
   "cell_type": "code",
   "execution_count": null,
   "outputs": [],
   "source": [
    "import pandas as pd"
   ],
   "metadata": {
    "collapsed": false
   },
   "id": "ffce97f2e36f7949"
  },
  {
   "cell_type": "markdown",
   "source": [
    "### Happiness data"
   ],
   "metadata": {
    "collapsed": false
   },
   "id": "b7b903d8b2aeff66"
  },
  {
   "cell_type": "markdown",
   "source": [
    "This Dataset is based on a survey conducted where people rated different metrics of their city on a scale of 5 and answered if they are happy or unhappy.\n",
    "\n",
    "The goal of this dataset is to understand the important factors that play a role in making the residents of a city more happy with their lives.\n",
    "\n",
    "Data Dictionary:-\n",
    "\n",
    "infoavail = the availability of information about the city services\n",
    "housecost = the cost of housing\n",
    "schoolquality = the overall quality of public schools\n",
    "policetrust = your trust in the local police\n",
    "streetquality = the maintenance of streets and sidewalks\n",
    "events = the availability of social community events\n",
    "happy = decision attribute (D) with values 0 (unhappy) and 1 (happy)"
   ],
   "metadata": {
    "collapsed": false
   },
   "id": "1045c177716d832e"
  },
  {
   "cell_type": "markdown",
   "source": [
    "### Pandas data loading"
   ],
   "metadata": {
    "collapsed": false
   },
   "id": "316d2bcc9473d47c"
  },
  {
   "cell_type": "markdown",
   "source": [
    "Pandas usually loads a dataset into a DataFrame object. A DataFrame is a two-dimensional table of data. Pandas provides a number of ways to load data into a DataFrame, one of which is loading from a CSV file."
   ],
   "metadata": {
    "collapsed": false
   },
   "id": "d3fe4b72f4568ec5"
  },
  {
   "cell_type": "code",
   "execution_count": null,
   "outputs": [],
   "source": [
    "df = pd.read_csv('happydata.csv')"
   ],
   "metadata": {
    "collapsed": false
   },
   "id": "1a65feb086abd6dc"
  },
  {
   "cell_type": "markdown",
   "source": [
    "we can use the head() method to display the first five rows of the DataFrame, and the tail() method to display the last five rows."
   ],
   "metadata": {
    "collapsed": false
   },
   "id": "a6234ce0b7774701"
  },
  {
   "cell_type": "code",
   "execution_count": null,
   "outputs": [],
   "source": [
    "print(df.head())"
   ],
   "metadata": {
    "collapsed": false
   },
   "id": "ecfef5bd3d818b04"
  },
  {
   "cell_type": "code",
   "execution_count": null,
   "outputs": [],
   "source": [
    "print(df.tail())"
   ],
   "metadata": {
    "collapsed": false
   },
   "id": "ee5d3304fb23466c"
  },
  {
   "cell_type": "markdown",
   "source": [
    "First of all we want to know how many rows we have in our dataset.\n",
    "\n",
    "For this we can use the len() function. When we apply it to our dataset we get the number of rows."
   ],
   "metadata": {
    "collapsed": false
   },
   "id": "7ea15cc130e0a66b"
  },
  {
   "cell_type": "code",
   "execution_count": null,
   "outputs": [],
   "source": [
    "print(len(df))"
   ],
   "metadata": {
    "collapsed": false
   },
   "id": "2a81486ad78b588d"
  },
  {
   "cell_type": "markdown",
   "source": [
    "Now we want to access the data of a specific column. For this we can use the column name as an index. For example: df['infoavail'] will return the column with the name 'infoavail'."
   ],
   "metadata": {
    "collapsed": false
   },
   "id": "49e78889fa3372fb"
  },
  {
   "cell_type": "code",
   "execution_count": null,
   "outputs": [],
   "source": [
    "print(df[\"schoolquality\"])"
   ],
   "metadata": {
    "collapsed": false
   },
   "id": "d36669e4077815da"
  },
  {
   "cell_type": "markdown",
   "source": [
    "When we have a column we can print out statistics of the data. For example we can print out the minimum, maximum, mean and standard deviation of the data. For this we can use the min(), max(), mean() and std() functions."
   ],
   "metadata": {
    "collapsed": false
   },
   "id": "7c5c9b98df7f3dc5"
  },
  {
   "cell_type": "code",
   "execution_count": null,
   "outputs": [],
   "source": [
    "schoolquality = df[\"schoolquality\"]\n",
    "print(\"Min school quality\",schoolquality.min())\n",
    "print(\"Max school quality\",schoolquality.max())\n",
    "print(\"Mean school quality\",schoolquality.mean())\n",
    "print(\"Standard deviation\",schoolquality.std())"
   ],
   "metadata": {
    "collapsed": false
   },
   "id": "4168ad5cd521a31c"
  },
  {
   "cell_type": "markdown",
   "source": [
    "### Grouping data"
   ],
   "metadata": {
    "collapsed": false
   },
   "id": "2668f7847ccbe05a"
  },
  {
   "cell_type": "markdown",
   "source": [
    "We can also group the data by a column. You can think of it as sorting the data by the values of the column, into different categories. For example we can group the data by the column 'schoolquality'. Then every row with the value 1 will be in one group, every row with the value 2 will be in another group and so on. We can then print out the mean of each group."
   ],
   "metadata": {
    "collapsed": false
   },
   "id": "581338a64778b71d"
  },
  {
   "cell_type": "code",
   "execution_count": null,
   "outputs": [],
   "source": [
    "mean_police_trust_per_school_quality = df.groupby(\"schoolquality\")[\"policetrust\"].mean()\n",
    "print(mean_police_trust_per_school_quality)"
   ],
   "metadata": {
    "collapsed": false
   },
   "id": "b45ef2e7e46677"
  },
  {
   "cell_type": "code",
   "execution_count": null,
   "outputs": [],
   "source": [],
   "metadata": {
    "collapsed": false
   },
   "id": "64381f155e5606f"
  }
 ],
 "metadata": {
  "kernelspec": {
   "display_name": "Python 3",
   "language": "python",
   "name": "python3"
  },
  "language_info": {
   "codemirror_mode": {
    "name": "ipython",
    "version": 2
   },
   "file_extension": ".py",
   "mimetype": "text/x-python",
   "name": "python",
   "nbconvert_exporter": "python",
   "pygments_lexer": "ipython2",
   "version": "2.7.6"
  }
 },
 "nbformat": 4,
 "nbformat_minor": 5
}
